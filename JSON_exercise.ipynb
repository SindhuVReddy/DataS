{
 "cells": [
  {
   "cell_type": "markdown",
   "metadata": {},
   "source": [
    "# First Exercise: Learning How to Import JSON Files. "
   ]
  },
  {
   "cell_type": "markdown",
   "metadata": {},
   "source": [
    "*The goal of this exercise is to learn how to manipulate data inside JSON files. I was given the world_bank_projects file to complete this project. Let's see if we can find anything interesting in this dataset, shall we? <br>\n",
    "<br>\n",
    "I decided to import json, pandas, and numpy as part of this project.*"
   ]
  },
  {
   "cell_type": "code",
   "execution_count": 124,
   "metadata": {},
   "outputs": [],
   "source": [
    "from pandas.io.json import json_normalize\n",
    "import json\n",
    "import pandas as pd\n",
    "import numpy as np"
   ]
  },
  {
   "cell_type": "markdown",
   "metadata": {},
   "source": [
    "*We are ready to import the json file and read it in as json_df. In this particular situation, I will be using pd.read_json because it gives me automatically a Pandas' dataframe. I use the .info() function to verify the types of each individual variable since there are a lot of them!*"
   ]
  },
  {
   "cell_type": "code",
   "execution_count": 125,
   "metadata": {},
   "outputs": [
    {
     "name": "stdout",
     "output_type": "stream",
     "text": [
      "<class 'pandas.core.frame.DataFrame'>\n",
      "Int64Index: 500 entries, 0 to 499\n",
      "Data columns (total 50 columns):\n",
      "_id                         500 non-null object\n",
      "approvalfy                  500 non-null int64\n",
      "board_approval_month        500 non-null object\n",
      "boardapprovaldate           500 non-null object\n",
      "borrower                    485 non-null object\n",
      "closingdate                 370 non-null object\n",
      "country_namecode            500 non-null object\n",
      "countrycode                 500 non-null object\n",
      "countryname                 500 non-null object\n",
      "countryshortname            500 non-null object\n",
      "docty                       446 non-null object\n",
      "envassesmentcategorycode    430 non-null object\n",
      "grantamt                    500 non-null int64\n",
      "ibrdcommamt                 500 non-null int64\n",
      "id                          500 non-null object\n",
      "idacommamt                  500 non-null int64\n",
      "impagency                   472 non-null object\n",
      "lendinginstr                495 non-null object\n",
      "lendinginstrtype            495 non-null object\n",
      "lendprojectcost             500 non-null int64\n",
      "majorsector_percent         500 non-null object\n",
      "mjsector_namecode           500 non-null object\n",
      "mjtheme                     491 non-null object\n",
      "mjtheme_namecode            500 non-null object\n",
      "mjthemecode                 500 non-null object\n",
      "prodline                    500 non-null object\n",
      "prodlinetext                500 non-null object\n",
      "productlinetype             500 non-null object\n",
      "project_abstract            362 non-null object\n",
      "project_name                500 non-null object\n",
      "projectdocs                 446 non-null object\n",
      "projectfinancialtype        500 non-null object\n",
      "projectstatusdisplay        500 non-null object\n",
      "regionname                  500 non-null object\n",
      "sector                      500 non-null object\n",
      "sector1                     500 non-null object\n",
      "sector2                     380 non-null object\n",
      "sector3                     265 non-null object\n",
      "sector4                     174 non-null object\n",
      "sector_namecode             500 non-null object\n",
      "sectorcode                  500 non-null object\n",
      "source                      500 non-null object\n",
      "status                      500 non-null object\n",
      "supplementprojectflg        498 non-null object\n",
      "theme1                      500 non-null object\n",
      "theme_namecode              491 non-null object\n",
      "themecode                   491 non-null object\n",
      "totalamt                    500 non-null int64\n",
      "totalcommamt                500 non-null int64\n",
      "url                         500 non-null object\n",
      "dtypes: int64(7), object(43)\n",
      "memory usage: 199.2+ KB\n"
     ]
    }
   ],
   "source": [
    "json_df = pd.read_json('data/world_bank_projects.json')\n",
    "json_df.info()"
   ]
  },
  {
   "cell_type": "markdown",
   "metadata": {},
   "source": [
    "*Looks good! Let's see if I can figure out what the best top ten countries are. First, I will use value_counts() function on the dataframe. I am using this function over Counter from collections because it will give me back a numpy array and I want to continue working in dataframes.*  "
   ]
  },
  {
   "cell_type": "code",
   "execution_count": 126,
   "metadata": {},
   "outputs": [
    {
     "name": "stdout",
     "output_type": "stream",
     "text": [
      "China                 19\n",
      "Indonesia             19\n",
      "Vietnam               17\n",
      "India                 16\n",
      "Yemen, Republic of    13\n",
      "Morocco               12\n",
      "Bangladesh            12\n",
      "Nepal                 12\n",
      "Africa                11\n",
      "Mozambique            11\n",
      "Name: countryshortname, dtype: int64\n"
     ]
    }
   ],
   "source": [
    "project_count = json_df['countryshortname'].value_counts()\n",
    "print project_count.head(n=10)"
   ]
  },
  {
   "cell_type": "markdown",
   "metadata": {},
   "source": [
    "*Hmm interesting. Africa is not a country; maybe, I should explore that. <br>\n",
    "<br>\n",
    "I started out by showing the top 20 countries who have the most projects. The table now includes other countries that are part of Africa such as Tanzaniaw who has 8 projects. After finding the borrowers' names and only including the ones whose country name is Africa, I could see that Tanzania has two more projects. This means that Africa would now have 2 less projects and would drop below Tanzania, who would now have 10 projects.*"
   ]
  },
  {
   "cell_type": "code",
   "execution_count": 127,
   "metadata": {},
   "outputs": [
    {
     "name": "stdout",
     "output_type": "stream",
     "text": [
      "China                               19\n",
      "Indonesia                           19\n",
      "Vietnam                             17\n",
      "India                               16\n",
      "Yemen, Republic of                  13\n",
      "Morocco                             12\n",
      "Bangladesh                          12\n",
      "Nepal                               12\n",
      "Africa                              11\n",
      "Mozambique                          11\n",
      "Brazil                               9\n",
      "Burkina Faso                         9\n",
      "Pakistan                             9\n",
      "Armenia                              8\n",
      "Tajikistan                           8\n",
      "Tanzania                             8\n",
      "Kyrgyz Republic                      7\n",
      "Nigeria                              7\n",
      "Lao People's Democratic Republic     7\n",
      "Jordan                               7\n",
      "Name: countryshortname, dtype: int64\n",
      "45                            ECOWAS\n",
      "46                    UGANDA-COMOROS\n",
      "51                  OSS, IUCN, CILSS\n",
      "58                     BANK EXECUTED\n",
      "65           BURUNDI,RWANDA,TANZANIA\n",
      "99                GOVERNMENT OF MALI\n",
      "167    MINISTRIES OF TELECOM AND ICT\n",
      "184                         TANZANIA\n",
      "287       MALAWI, MOZAMBIQUE, ZAMBIA\n",
      "353            NILE BASIN INITIATIVE\n",
      "449              GOVERNMENT OF NIGER\n",
      "Name: borrower, dtype: object\n"
     ]
    }
   ],
   "source": [
    "print project_count.head(n=20)\n",
    "print json_df.borrower[json_df['countryname'] == 'Africa']"
   ]
  },
  {
   "cell_type": "markdown",
   "metadata": {},
   "source": [
    "## It's time to move on to the top number project areas or themes in projects."
   ]
  },
  {
   "cell_type": "markdown",
   "metadata": {},
   "source": [
    "*I initially tried a similar method as I did in the previous section. However, I quickly found out that it does not work as I thought it would (nice and clean as in the first section).*\n"
   ]
  },
  {
   "cell_type": "code",
   "execution_count": 128,
   "metadata": {},
   "outputs": [
    {
     "name": "stdout",
     "output_type": "stream",
     "text": [
      "[{u'code': u'11', u'name': u'Environment and natural resources management'}, {u'code': u'11', u'name': u'Environment and natural resources management'}]                                                                                            12\n",
      "[{u'code': u'8', u'name': u'Human development'}, {u'code': u'11', u'name': u''}]                                                                                                                                                                    11\n",
      "[{u'code': u'8', u'name': u'Human development'}, {u'code': u'8', u'name': u'Human development'}]                                                                                                                                                     8\n",
      "[{u'code': u'4', u'name': u'Financial and private sector development'}, {u'code': u'4', u'name': u'Financial and private sector development'}]                                                                                                       6\n",
      "[{u'code': u'2', u'name': u'Public sector governance'}, {u'code': u'2', u'name': u'Public sector governance'}, {u'code': u'2', u'name': u'Public sector governance'}]                                                                                6\n",
      "[{u'code': u'8', u'name': u'Human development'}, {u'code': u'7', u'name': u'Social dev/gender/inclusion'}]                                                                                                                                           5\n",
      "[{u'code': u'8', u'name': u'Human development'}, {u'code': u'8', u'name': u'Human development'}, {u'code': u'8', u'name': u'Human development'}, {u'code': u'8', u'name': u'Human development'}, {u'code': u'8', u'name': u'Human development'}]     5\n",
      "[{u'code': u'11', u'name': u'Environment and natural resources management'}, {u'code': u'11', u'name': u''}]                                                                                                                                         5\n",
      "[{u'code': u'11', u'name': u'Environment and natural resources management'}, {u'code': u'4', u'name': u''}]                                                                                                                                          5\n",
      "[{u'code': u'4', u'name': u'Financial and private sector development'}, {u'code': u'5', u'name': u'Trade and integration'}]                                                                                                                          5\n",
      "Name: mjtheme_namecode, dtype: int64\n"
     ]
    }
   ],
   "source": [
    "themes_count = json_df['mjtheme_namecode'].value_counts()\n",
    "print themes_count.head(n=10)"
   ]
  },
  {
   "cell_type": "markdown",
   "metadata": {},
   "source": [
    "*Thus, I decided a different method for this section. I used json.load and json_normalize because these functions quickly clean the data and transition the data into a table.*"
   ]
  },
  {
   "cell_type": "code",
   "execution_count": 129,
   "metadata": {},
   "outputs": [],
   "source": [
    "json_df = json.load((open('data/world_bank_projects.json')))\n",
    "json_df = json_normalize(json_df, 'mjtheme_namecode')"
   ]
  },
  {
   "cell_type": "code",
   "execution_count": 130,
   "metadata": {},
   "outputs": [
    {
     "name": "stdout",
     "output_type": "stream",
     "text": [
      "  code                                          name\n",
      "0    8                             Human development\n",
      "1   11                                              \n",
      "2    1                           Economic management\n",
      "3    6         Social protection and risk management\n",
      "4    5                         Trade and integration\n",
      "5    2                      Public sector governance\n",
      "6   11  Environment and natural resources management\n",
      "7    6         Social protection and risk management\n",
      "8    7                   Social dev/gender/inclusion\n",
      "9    7                   Social dev/gender/inclusion\n"
     ]
    }
   ],
   "source": [
    "print json_df.head(10)"
   ]
  },
  {
   "cell_type": "markdown",
   "metadata": {},
   "source": [
    "*When I printed out the top ten results, I realized that some of the name sections were empty. Thus, it was vital to fill these in. I started off by sorting the code values because the same code would have the same project theme.* "
   ]
  },
  {
   "cell_type": "code",
   "execution_count": 131,
   "metadata": {},
   "outputs": [
    {
     "name": "stdout",
     "output_type": "stream",
     "text": [
      "     code                 name\n",
      "212     1                     \n",
      "363     1                     \n",
      "1024    1                     \n",
      "1114    1                     \n",
      "1437    1                     \n",
      "2       1  Economic management\n",
      "88      1  Economic management\n",
      "175     1  Economic management\n",
      "204     1  Economic management\n",
      "205     1  Economic management\n"
     ]
    }
   ],
   "source": [
    "json_df = json_df.sort_values(['code', 'name'])\n",
    "print json_df.head(n=10)"
   ]
  },
  {
   "cell_type": "markdown",
   "metadata": {},
   "source": [
    "*I then searched for all the values in the name column where the name value is empty and filled it with NaN. Lastly, I was able to fill these 'NaN' values backwards with .fillna() to get the following clean tables.* "
   ]
  },
  {
   "cell_type": "code",
   "execution_count": 132,
   "metadata": {},
   "outputs": [
    {
     "name": "stdout",
     "output_type": "stream",
     "text": [
      "     code                 name\n",
      "212     1  Economic management\n",
      "363     1  Economic management\n",
      "1024    1  Economic management\n",
      "1114    1  Economic management\n",
      "1437    1  Economic management\n",
      "2       1  Economic management\n",
      "88      1  Economic management\n",
      "175     1  Economic management\n",
      "204     1  Economic management\n",
      "205     1  Economic management\n"
     ]
    }
   ],
   "source": [
    "json_df.name[json_df['name'] == ''] = np.nan \n",
    "json_df = json_df.fillna(method='bfill')\n",
    "print json_df.head(10)"
   ]
  },
  {
   "cell_type": "code",
   "execution_count": 137,
   "metadata": {},
   "outputs": [
    {
     "data": {
      "text/plain": [
       "Environment and natural resources management    250\n",
       "Rural development                               216\n",
       "Human development                               210\n",
       "Public sector governance                        199\n",
       "Social protection and risk management           168\n",
       "Financial and private sector development        146\n",
       "Social dev/gender/inclusion                     130\n",
       "Trade and integration                            77\n",
       "Urban development                                50\n",
       "Economic management                              38\n",
       "Name: name, dtype: int64"
      ]
     },
     "execution_count": 137,
     "metadata": {},
     "output_type": "execute_result"
    }
   ],
   "source": [
    "json_df.name.value_counts().head(n=10)"
   ]
  },
  {
   "cell_type": "markdown",
   "metadata": {},
   "source": [
    "### Conclusion\n"
   ]
  },
  {
   "cell_type": "markdown",
   "metadata": {},
   "source": [
    "*I have listed the top ten projects and project themes in the tables below.*\n"
   ]
  },
  {
   "cell_type": "markdown",
   "metadata": {},
   "source": [
    "\n",
    "|     Rank     |   Project     | \n",
    "| ------------ |  -----------  | \n",
    "|1             |   China            |\n",
    "|2             |   Indonesia            | \n",
    "|3             |   Vietnam            |\n",
    "|4             |   India            | \n",
    "|5             |   Yemen, Republic of            |\n",
    "|6             |   Morocco            | \n",
    "|7             |   Bangladesh            |\n",
    "|8             |   Nepal            | \n",
    "|9             |   Mozambique            |\n",
    "|10            |   Tanzania        | \n",
    "\n",
    "\n",
    "|     Rank     |  Project Theme     | \n",
    "| ------------ |  -----------  | \n",
    "|1             |   Environment and natural resources management            |\n",
    "|2             |   Rural development         | \n",
    "|3             |   Human development            |\n",
    "|4             |   Public sector governance           | \n",
    "|5             |   Social protection and risk management            |\n",
    "|6             |   Financial and private sector development            | \n",
    "|7             |   Social dev/gender/inclusion            |\n",
    "|8             |   Trade and integration                | \n",
    "|9             |   Urban development            |\n",
    "|10            |   Economic management         | \n"
   ]
  },
  {
   "cell_type": "code",
   "execution_count": null,
   "metadata": {},
   "outputs": [],
   "source": []
  }
 ],
 "metadata": {
  "kernelspec": {
   "display_name": "Python 2",
   "language": "python",
   "name": "python2"
  },
  "language_info": {
   "codemirror_mode": {
    "name": "ipython",
    "version": 2
   },
   "file_extension": ".py",
   "mimetype": "text/x-python",
   "name": "python",
   "nbconvert_exporter": "python",
   "pygments_lexer": "ipython2",
   "version": "2.7.14"
  }
 },
 "nbformat": 4,
 "nbformat_minor": 2
}
