{
 "cells": [
  {
   "cell_type": "markdown",
   "metadata": {},
   "source": [
    "# Examining Racial Discrimination in the US Job Market\n",
    "\n",
    "### Background\n",
    "Racial discrimination continues to be pervasive in cultures throughout the world. Researchers examined the level of racial discrimination in the United States labor market by randomly assigning identical résumés to black-sounding or white-sounding names and observing the impact on requests for interviews from employers.\n",
    "\n",
    "### Data\n",
    "In the dataset provided, each row represents a resume. The 'race' column has two values, 'b' and 'w', indicating black-sounding and white-sounding. The column 'call' has two values, 1 and 0, indicating whether the resume received a call from employers or not.\n",
    "\n",
    "Note that the 'b' and 'w' values in race are assigned randomly to the resumes when presented to the employer."
   ]
  },
  {
   "cell_type": "markdown",
   "metadata": {},
   "source": [
    "### Analysis"
   ]
  },
  {
   "cell_type": "markdown",
   "metadata": {},
   "source": [
    "Let's look at the data, shall we?"
   ]
  },
  {
   "cell_type": "code",
   "execution_count": 2,
   "metadata": {},
   "outputs": [],
   "source": [
    "import pandas as pd\n",
    "import numpy as np\n",
    "from scipy import stats\n",
    "import seaborn as sns\n",
    "import matplotlib.pyplot as plt"
   ]
  },
  {
   "cell_type": "code",
   "execution_count": 3,
   "metadata": {},
   "outputs": [],
   "source": [
    "data = pd.io.stata.read_stata('data/us_job_market_discrimination.dta')"
   ]
  },
  {
   "cell_type": "code",
   "execution_count": 4,
   "metadata": {},
   "outputs": [
    {
     "data": {
      "text/plain": [
       "count    4870.000000\n",
       "mean        0.080493\n",
       "std         0.272079\n",
       "min         0.000000\n",
       "25%         0.000000\n",
       "50%         0.000000\n",
       "75%         0.000000\n",
       "max         1.000000\n",
       "Name: call, dtype: float64"
      ]
     },
     "execution_count": 4,
     "metadata": {},
     "output_type": "execute_result"
    }
   ],
   "source": [
    "data.call.describe()"
   ]
  },
  {
   "cell_type": "code",
   "execution_count": 5,
   "metadata": {},
   "outputs": [],
   "source": [
    "black = sum(data[data.race=='b'].call)/len(data)\n",
    "white = sum(data[data.race=='w'].call)/len(data)\n",
    "white_black = sum(data.call)/len(data)"
   ]
  },
  {
   "cell_type": "code",
   "execution_count": 6,
   "metadata": {},
   "outputs": [
    {
     "name": "stdout",
     "output_type": "stream",
     "text": [
      "Percentage of black-sounding resumes  40.0510204082\n",
      "Percentage of white-sounding resumes  59.9489795918\n",
      "Difference between these two percentages  19.8979591837\n"
     ]
    }
   ],
   "source": [
    "b_percent = black/white_black*100\n",
    "w_percent = white/white_black*100\n",
    "difference = (white/white_black - black/white_black)*100\n",
    "print \"Percentage of black-sounding resumes \", b_percent\n",
    "print \"Percentage of white-sounding resumes \", w_percent\n",
    "print \"Difference between these two percentages \", difference"
   ]
  },
  {
   "cell_type": "markdown",
   "metadata": {},
   "source": [
    "White sounding names were more likely to be called back than black sounding names by 19.90% "
   ]
  },
  {
   "cell_type": "markdown",
   "metadata": {},
   "source": [
    "### Calculating the margin of errors and confidence interval"
   ]
  },
  {
   "cell_type": "code",
   "execution_count": 32,
   "metadata": {},
   "outputs": [
    {
     "name": "stdout",
     "output_type": "stream",
     "text": [
      "White-sounding names\n",
      "Mean:  0.0322381930185\n",
      "Margin of error:  0.0137619919899\n",
      "Confidence interval:  (0.064476385712623596, 0.064476385712623596)\n"
     ]
    }
   ],
   "source": [
    "z_critical = stats.norm.ppf(0.975)\n",
    "p = white/white_black \n",
    "margin_of_error = np.sqrt((p*(1-p)/len(data)))*z_critical\n",
    "min_CI = p - margin_of_error\n",
    "max_CI = p + margin_of_error \n",
    "\n",
    "print \"White-sounding names\"\n",
    "print \"Mean: \", b_mean\n",
    "print \"Margin of error: \", margin_of_error\n",
    "print \"Confidence interval: \", confidence_interval\n"
   ]
  },
  {
   "cell_type": "code",
   "execution_count": 33,
   "metadata": {},
   "outputs": [
    {
     "name": "stdout",
     "output_type": "stream",
     "text": [
      "Black-sounding names\n",
      "Mean:  0.400510204082\n",
      "Margin of error:  0.0137619919899\n",
      "Confidence interval:  0.386748212092 , 0.414272196072\n"
     ]
    }
   ],
   "source": [
    "z_critical = stats.norm.ppf(0.975)\n",
    "p = black/white_black\n",
    "margin_of_error = np.sqrt((p*(1-p)/len(data)))*z_critical\n",
    "min_CI = p - margin_of_error\n",
    "max_CI = p + margin_of_error\n",
    "\n",
    "print \"Black-sounding names\" \n",
    "print \"Mean: \", p \n",
    "print \"Margin of error: \", margin_of_error \n",
    "print \"Confidence interval: \", min_CI, ',', max_CI "
   ]
  },
  {
   "cell_type": "markdown",
   "metadata": {},
   "source": [
    "### Conclusions"
   ]
  },
  {
   "cell_type": "markdown",
   "metadata": {},
   "source": [
    "Black-sounding names get called back less than white-sounding names. "
   ]
  },
  {
   "cell_type": "markdown",
   "metadata": {},
   "source": [
    "Specifically, white-sounding names were called back at 60.0 +/-1.4 % of the time.\n",
    "Black-sounding names were called back at 40.1 +/- 1.4% of the time. "
   ]
  },
  {
   "cell_type": "markdown",
   "metadata": {},
   "source": [
    "However, this is solely determined by the data retrieved from callbacks. Of course, there are other factors that could play in the decision whether they would get a call back or not such as degrees, years of experience, and age to name a few. "
   ]
  },
  {
   "cell_type": "code",
   "execution_count": null,
   "metadata": {},
   "outputs": [],
   "source": []
  }
 ],
 "metadata": {
  "kernelspec": {
   "display_name": "Python 2",
   "language": "python",
   "name": "python2"
  },
  "language_info": {
   "codemirror_mode": {
    "name": "ipython",
    "version": 2
   },
   "file_extension": ".py",
   "mimetype": "text/x-python",
   "name": "python",
   "nbconvert_exporter": "python",
   "pygments_lexer": "ipython2",
   "version": "2.7.14"
  }
 },
 "nbformat": 4,
 "nbformat_minor": 1
}
