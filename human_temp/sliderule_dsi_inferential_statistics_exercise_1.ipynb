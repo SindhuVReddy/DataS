{
 "cells": [
  {
   "cell_type": "markdown",
   "metadata": {},
   "source": [
    "# What is the True Normal Human Body Temperature? \n",
    "\n",
    "#### Background\n",
    "\n",
    "The mean normal body temperature was held to be 37$^{\\circ}$C or 98.6$^{\\circ}$F for more than 120 years since it was first conceptualized and reported by Carl Wunderlich in a famous 1868 book. But, is this value statistically correct?"
   ]
  },
  {
   "cell_type": "markdown",
   "metadata": {},
   "source": [
    "The null hypothesis: the mean temperature is 98.6 Fahrenheit. "
   ]
  },
  {
   "cell_type": "markdown",
   "metadata": {},
   "source": [
    "The alternative hypothesis: the mean would actually be less than 98.6 Fahrenheit. "
   ]
  },
  {
   "cell_type": "code",
   "execution_count": 224,
   "metadata": {},
   "outputs": [
    {
     "name": "stdout",
     "output_type": "stream",
     "text": [
      "Index([u'temperature', u'gender', u'heart_rate'], dtype='object')\n"
     ]
    }
   ],
   "source": [
    "import pandas as pd\n",
    "import matplotlib.pyplot as plt\n",
    "import numpy as np\n",
    "import matplotlib.mlab as mlab\n",
    "import math\n",
    "import scipy.stats as stats\n",
    "\n",
    "df = pd.read_csv('data/human_body_temperature.csv')\n",
    "print df.columns"
   ]
  },
  {
   "cell_type": "code",
   "execution_count": 225,
   "metadata": {},
   "outputs": [
    {
     "data": {
      "text/plain": [
       "count    130.000000\n",
       "mean      98.249231\n",
       "std        0.733183\n",
       "min       96.300000\n",
       "25%       97.800000\n",
       "50%       98.300000\n",
       "75%       98.700000\n",
       "max      100.800000\n",
       "Name: temperature, dtype: float64"
      ]
     },
     "execution_count": 225,
     "metadata": {},
     "output_type": "execute_result"
    }
   ],
   "source": [
    "df.temperature.describe()"
   ]
  },
  {
   "cell_type": "markdown",
   "metadata": {},
   "source": [
    "#### Is the distribution of body temperatures normal? "
   ]
  },
  {
   "cell_type": "code",
   "execution_count": 226,
   "metadata": {},
   "outputs": [
    {
     "data": {
      "image/png": "[encoded data removed]",
      "text/plain": [
       "<matplotlib.figure.Figure at 0x1a1757da50>"
      ]
     },
     "metadata": {},
     "output_type": "display_data"
    }
   ],
   "source": [
    "n, bins, patches = plt.hist(df.temperature, 20, normed=1, color='b')\n",
    "mu = np.mean(df.temperature)\n",
    "sigma = np.std(df.temperature)\n",
    "plt.plot(bins, mlab.normpdf(bins, mu, sigma),color='r')\n",
    "\n",
    "plt.show()"
   ]
  },
  {
   "cell_type": "markdown",
   "metadata": {},
   "source": [
    "Combining the normal distribution plot and histogram plot, the body temperature data represents a normal distribution. "
   ]
  },
  {
   "cell_type": "markdown",
   "metadata": {},
   "source": [
    "#### Is the true population mean really 98.6 degrees F? \n"
   ]
  },
  {
   "cell_type": "markdown",
   "metadata": {},
   "source": [
    "This data requires a one-sample test because the one sample t-test compares the mean of the dataset, 98.25 F, to a known value, 98.6 F.  "
   ]
  },
  {
   "cell_type": "code",
   "execution_count": 227,
   "metadata": {},
   "outputs": [
    {
     "data": {
      "text/plain": [
       "Ttest_1sampResult(statistic=-5.4548232923645195, pvalue=2.4106320415561276e-07)"
      ]
     },
     "execution_count": 227,
     "metadata": {},
     "output_type": "execute_result"
    }
   ],
   "source": [
    "stats.ttest_1samp(df['temperature'],98.6)"
   ]
  },
  {
   "cell_type": "code",
   "execution_count": 228,
   "metadata": {
    "scrolled": true
   },
   "outputs": [
    {
     "name": "stdout",
     "output_type": "stream",
     "text": [
      "-5.45482329236\n"
     ]
    }
   ],
   "source": [
    "mu= 98.6\n",
    "x=np.mean(df.temperature)\n",
    "std = np.std(df.temperature)\n",
    "sqrt=len(df)**0.5\n",
    "SE = stats.sem(df.temperature)\n",
    "Z=float((x-mu)/SE)\n",
    "print Z"
   ]
  },
  {
   "cell_type": "code",
   "execution_count": 229,
   "metadata": {},
   "outputs": [
    {
     "name": "stdout",
     "output_type": "stream",
     "text": [
      "5.55111512313e-16\n"
     ]
    }
   ],
   "source": [
    "z = df.temperature\n",
    "y = df.heart_rate\n",
    "theta_hat = z.mean() - y.mean()\n",
    "sigma_bar = np.sqrt((  np.sum((z-z.mean())**2) + np.sum((y-y.mean())**2) ) / (z.size + y.size - 2.0))\n",
    "t = 1.0 - stats.t.cdf(theta_hat / (sigma_bar * np.sqrt((1.0/z.size)+(1.0/y.size))),14)\n",
    "print t"
   ]
  },
  {
   "cell_type": "markdown",
   "metadata": {},
   "source": [
    "A z-score and a t-score are both used in hypothesis testing. The general rule of thumb for when to use a t score is when the sample has size < 30 and has an unknown population standard deviation. Since the sample size is 130 and the standard deviation is 0.733183, I should use z-score. Furthermore, when I calculated the z score and t score, the result from t-score just did not make sense.  "
   ]
  },
  {
   "cell_type": "markdown",
   "metadata": {},
   "source": [
    "The p-value is also 2.4106320415561276e-07, which is a very small value. It is therefore safe to say that the null hypothesis can be rejected. "
   ]
  },
  {
   "cell_type": "markdown",
   "metadata": {},
   "source": [
    "#### Draw a small sample of size 10 from the data and repeat both tests."
   ]
  },
  {
   "cell_type": "code",
   "execution_count": 230,
   "metadata": {},
   "outputs": [],
   "source": [
    "new_df = df.sample(n=10)"
   ]
  },
  {
   "cell_type": "code",
   "execution_count": 231,
   "metadata": {},
   "outputs": [
    {
     "name": "stdout",
     "output_type": "stream",
     "text": [
      "0.0\n"
     ]
    }
   ],
   "source": [
    "new_mu= 98.6\n",
    "new_x=np.mean(new_df.temperature)\n",
    "new_std = np.std(new_df.temperature)\n",
    "new_sqrt=len(new_df)**0.5\n",
    "new_SE= stats.sem(new_df.temperature)\n",
    "new_Z=float((new_x-new_mu)/new_SE)\n",
    "print new_Z"
   ]
  },
  {
   "cell_type": "code",
   "execution_count": 232,
   "metadata": {},
   "outputs": [
    {
     "name": "stdout",
     "output_type": "stream",
     "text": [
      "8.79563651912e-08\n"
     ]
    }
   ],
   "source": [
    "new_z = new_df.temperature\n",
    "new_y = new_df.heart_rate\n",
    "new_theta_hat = new_z.mean() - new_y.mean()\n",
    "new_sigma_bar = np.sqrt((  np.sum((new_z-new_z.mean())**2) + np.sum((new_y-new_y.mean())**2) ) / (new_z.size + new_y.size - 2.0))\n",
    "new_t = 1.0 - stats.t.cdf(new_theta_hat / (new_sigma_bar * np.sqrt((1.0/new_z.size)+(1.0/new_y.size))),14)\n",
    "print new_t"
   ]
  },
  {
   "cell_type": "code",
   "execution_count": 233,
   "metadata": {},
   "outputs": [
    {
     "data": {
      "text/plain": [
       "NormaltestResult(statistic=1.3332634243456611, pvalue=0.51343506558176899)"
      ]
     },
     "execution_count": 233,
     "metadata": {},
     "output_type": "execute_result"
    }
   ],
   "source": [
    "stats.normaltest(new_df.temperature)"
   ]
  },
  {
   "cell_type": "markdown",
   "metadata": {},
   "source": [
    "With smaller sample, the p value dropped to 0.00255, providing strong evidence against the null hypothesis."
   ]
  },
  {
   "cell_type": "markdown",
   "metadata": {},
   "source": [
    "#### At what temperature should we consider someone's temperature to be \"abnormal\"?"
   ]
  },
  {
   "cell_type": "code",
   "execution_count": 234,
   "metadata": {},
   "outputs": [
    {
     "data": {
      "text/plain": [
       "(array([-1.9841428 , -1.98436663, -1.98451818, -1.98416746, -1.98446745,\n",
       "        -1.98416746, -1.98446745, -1.98426664, -1.98436663, -1.98431654,\n",
       "        -1.98426664, -1.98480095, -1.98441694, -1.98429156, -1.98451818,\n",
       "        -1.98426664, -1.98439176, -1.98441694, -1.98467161, -1.98411818,\n",
       "        -1.98439176, -1.98441694, -1.98431654, -1.98436663, -1.98451818,\n",
       "        -1.98446745, -1.98451818, -1.98441694, -1.98436663, -1.98444217,\n",
       "        -1.98439176, -1.98456911, -1.98434156, -1.98431654, -1.9841428 ,\n",
       "        -1.98409361, -1.98419218, -1.98439176, -1.98449279, -1.9848792 ,\n",
       "        -1.98436663, -1.98436663, -1.98474905, -1.98467161, -1.98421695,\n",
       "        -1.98449279, -1.98462026, -1.98462026, -1.98449279, -1.98469737,\n",
       "        -1.98424177, -1.98439176, -1.98434156, -1.98431654, -1.98441694,\n",
       "        -1.98431654, -1.98426664, -1.98441694, -1.98441694, -1.98456911,\n",
       "        -1.98419218, -1.98436663, -1.98441694, -1.98431654, -1.98429156,\n",
       "        -1.98462026, -1.98462026, -1.98431654, -1.98429156, -1.98424177,\n",
       "        -1.98444217, -1.98454362, -1.98446745, -1.98426664, -1.98421695,\n",
       "        -1.98426664, -1.98446745, -1.98436663, -1.98462026, -1.98456911,\n",
       "        -1.98426664, -1.98446745, -1.98459466, -1.98416746, -1.98431654,\n",
       "        -1.98469737, -1.98431654, -1.98446745, -1.98429156, -1.98444217,\n",
       "        -1.98451818, -1.98397152, -1.98426664, -1.98469737, -1.98451818,\n",
       "        -1.98477497, -1.98399584, -1.98429156, -1.98426664, -1.98446745,\n",
       "        -1.98421695, -1.98434156, -1.98446745, -1.98411818, -1.98456911,\n",
       "        -1.98480095, -1.98472319, -1.98431654, -1.98429156, -1.98464591,\n",
       "        -1.98426664, -1.98446745, -1.98441694, -1.98419218, -1.98421695,\n",
       "        -1.98446745, -1.98377872, -1.98451818, -1.98429156, -1.98436663,\n",
       "        -1.98454362, -1.98449279, -1.98421695, -1.98467161, -1.98459466,\n",
       "        -1.9849054 , -1.98454362, -1.98441694, -1.98449279, -1.98429156]),\n",
       " array([ 1.9841428 ,  1.98436663,  1.98451818,  1.98416746,  1.98446745,\n",
       "         1.98416746,  1.98446745,  1.98426664,  1.98436663,  1.98431654,\n",
       "         1.98426664,  1.98480095,  1.98441694,  1.98429156,  1.98451818,\n",
       "         1.98426664,  1.98439176,  1.98441694,  1.98467161,  1.98411818,\n",
       "         1.98439176,  1.98441694,  1.98431654,  1.98436663,  1.98451818,\n",
       "         1.98446745,  1.98451818,  1.98441694,  1.98436663,  1.98444217,\n",
       "         1.98439176,  1.98456911,  1.98434156,  1.98431654,  1.9841428 ,\n",
       "         1.98409361,  1.98419218,  1.98439176,  1.98449279,  1.9848792 ,\n",
       "         1.98436663,  1.98436663,  1.98474905,  1.98467161,  1.98421695,\n",
       "         1.98449279,  1.98462026,  1.98462026,  1.98449279,  1.98469737,\n",
       "         1.98424177,  1.98439176,  1.98434156,  1.98431654,  1.98441694,\n",
       "         1.98431654,  1.98426664,  1.98441694,  1.98441694,  1.98456911,\n",
       "         1.98419218,  1.98436663,  1.98441694,  1.98431654,  1.98429156,\n",
       "         1.98462026,  1.98462026,  1.98431654,  1.98429156,  1.98424177,\n",
       "         1.98444217,  1.98454362,  1.98446745,  1.98426664,  1.98421695,\n",
       "         1.98426664,  1.98446745,  1.98436663,  1.98462026,  1.98456911,\n",
       "         1.98426664,  1.98446745,  1.98459466,  1.98416746,  1.98431654,\n",
       "         1.98469737,  1.98431654,  1.98446745,  1.98429156,  1.98444217,\n",
       "         1.98451818,  1.98397152,  1.98426664,  1.98469737,  1.98451818,\n",
       "         1.98477497,  1.98399584,  1.98429156,  1.98426664,  1.98446745,\n",
       "         1.98421695,  1.98434156,  1.98446745,  1.98411818,  1.98456911,\n",
       "         1.98480095,  1.98472319,  1.98431654,  1.98429156,  1.98464591,\n",
       "         1.98426664,  1.98446745,  1.98441694,  1.98419218,  1.98421695,\n",
       "         1.98446745,  1.98377872,  1.98451818,  1.98429156,  1.98436663,\n",
       "         1.98454362,  1.98449279,  1.98421695,  1.98467161,  1.98459466,\n",
       "         1.9849054 ,  1.98454362,  1.98441694,  1.98449279,  1.98429156]))"
      ]
     },
     "execution_count": 234,
     "metadata": {},
     "output_type": "execute_result"
    }
   ],
   "source": [
    "stats.t.interval(0.95,df.temperature)"
   ]
  },
  {
   "cell_type": "code",
   "execution_count": 235,
   "metadata": {
    "scrolled": true
   },
   "outputs": [
    {
     "name": "stdout",
     "output_type": "stream",
     "text": [
      "97.8984615385 98.6\n"
     ]
    }
   ],
   "source": [
    "max_CI=x-(Z*SE)\n",
    "min_CI=x+(Z*SE)\n",
    "print min_CI,max_CI"
   ]
  },
  {
   "cell_type": "code",
   "execution_count": 236,
   "metadata": {},
   "outputs": [
    {
     "name": "stdout",
     "output_type": "stream",
     "text": [
      "-0.349417513869\n"
     ]
    }
   ],
   "source": [
    "margin_of_error = Z * (std/math.sqrt(len(df)))\n",
    "print margin_of_error"
   ]
  },
  {
   "cell_type": "code",
   "execution_count": 237,
   "metadata": {},
   "outputs": [
    {
     "name": "stdout",
     "output_type": "stream",
     "text": [
      "Abnormal Temperature\n",
      "Mean:  98.6\n",
      "Margin of error:  -0.349417513869\n",
      "Confidence interval:  97.8984615385 , 98.6\n"
     ]
    }
   ],
   "source": [
    "print \"Abnormal Temperature\"\n",
    "print \"Mean: \", 98.6 \n",
    "print \"Margin of error: \", margin_of_error\n",
    "print \"Confidence interval: \", min_CI, ',', max_CI"
   ]
  },
  {
   "cell_type": "markdown",
   "metadata": {},
   "source": [
    "The 95% confidence interval is from 97.9 to 98.6, and an abnormal temperature would be below 97.9 and above 98.6 Fahrenheit. "
   ]
  },
  {
   "cell_type": "markdown",
   "metadata": {},
   "source": [
    "#### Is there a significant difference between males and females in normal temperature?"
   ]
  },
  {
   "cell_type": "markdown",
   "metadata": {},
   "source": [
    "The null hypothesis is now saying that males and females bodies have a normal body temperature. The alternative hypothesis argues that it would be either greater or lesser than the normal body temperature. "
   ]
  },
  {
   "cell_type": "code",
   "execution_count": 238,
   "metadata": {},
   "outputs": [],
   "source": [
    "F=df[df.gender=='F']\n",
    "M=df[df.gender=='M']"
   ]
  },
  {
   "cell_type": "code",
   "execution_count": 239,
   "metadata": {},
   "outputs": [
    {
     "data": {
      "text/plain": [
       "M    65\n",
       "F    65\n",
       "Name: gender, dtype: int64"
      ]
     },
     "execution_count": 239,
     "metadata": {},
     "output_type": "execute_result"
    }
   ],
   "source": [
    "df.gender.value_counts()"
   ]
  },
  {
   "cell_type": "code",
   "execution_count": 240,
   "metadata": {},
   "outputs": [
    {
     "data": {
      "text/plain": [
       "count    65.000000\n",
       "mean     98.104615\n",
       "std       0.698756\n",
       "min      96.300000\n",
       "25%      97.600000\n",
       "50%      98.100000\n",
       "75%      98.600000\n",
       "max      99.500000\n",
       "Name: temperature, dtype: float64"
      ]
     },
     "execution_count": 240,
     "metadata": {},
     "output_type": "execute_result"
    }
   ],
   "source": [
    "M.temperature.describe() "
   ]
  },
  {
   "cell_type": "code",
   "execution_count": 241,
   "metadata": {},
   "outputs": [
    {
     "data": {
      "text/plain": [
       "count     65.000000\n",
       "mean      98.393846\n",
       "std        0.743488\n",
       "min       96.400000\n",
       "25%       98.000000\n",
       "50%       98.400000\n",
       "75%       98.800000\n",
       "max      100.800000\n",
       "Name: temperature, dtype: float64"
      ]
     },
     "execution_count": 241,
     "metadata": {},
     "output_type": "execute_result"
    }
   ],
   "source": [
    "F.temperature.describe()"
   ]
  },
  {
   "cell_type": "code",
   "execution_count": 242,
   "metadata": {},
   "outputs": [
    {
     "name": "stdout",
     "output_type": "stream",
     "text": [
      "Women and Men\n",
      "Mean:  -0.289230769231\n",
      "Margin of error:  0.125576685212\n",
      "Confidence interval:  0.0 , -0.578461538461\n"
     ]
    }
   ],
   "source": [
    "n=len(M)\n",
    "mean_M=np.mean(M.temperature)\n",
    "std_M = np.std(M.temperature)\n",
    "mean_F = np.mean(F.temperature)\n",
    "std_F = np.std(F.temperature)\n",
    "SE_FM= (((std_M**2)+(std_F**2))/n)**0.5\n",
    "mean_diff=mean_M-mean_F\n",
    "\n",
    "Z = (mean_diff - 0)/SE_FM #0 because testing equal means\n",
    "\n",
    "min_CI= mean_diff-(Z*SE_FM)\n",
    "max_CI= mean_diff+(Z*SE_FM)\n",
    "\n",
    "print \"Women and Men\"\n",
    "print \"Mean: \", mean_diff\n",
    "print \"Margin of error: \", SE_FM\n",
    "print \"Confidence interval: \", min_CI, ',', max_CI"
   ]
  },
  {
   "cell_type": "code",
   "execution_count": 243,
   "metadata": {},
   "outputs": [
    {
     "data": {
      "text/plain": [
       "Ttest_indResult(statistic=-2.2854345381656103, pvalue=0.023931883122395609)"
      ]
     },
     "execution_count": 243,
     "metadata": {},
     "output_type": "execute_result"
    }
   ],
   "source": [
    "stats.ttest_ind(M.temperature,F.temperature)"
   ]
  },
  {
   "cell_type": "markdown",
   "metadata": {},
   "source": [
    "With a p value of 0.0239, I can reject the null hypothesis. This rejection indicates that there is a difference between men and women's natural body temperature."
   ]
  },
  {
   "cell_type": "markdown",
   "metadata": {},
   "source": [
    "#### Conclusion"
   ]
  },
  {
   "cell_type": "markdown",
   "metadata": {},
   "source": [
    "The null hypothesis that the mean temperature is 98.6 Fahrenheit is statistically incorrect. The p-value is also 2.4106320415561276e-07 and therefore it is therefore safe to say that the null hypothesis can be rejected."
   ]
  },
  {
   "cell_type": "code",
   "execution_count": null,
   "metadata": {},
   "outputs": [],
   "source": []
  }
 ],
 "metadata": {
  "kernelspec": {
   "display_name": "Python 2",
   "language": "python",
   "name": "python2"
  },
  "language_info": {
   "codemirror_mode": {
    "name": "ipython",
    "version": 2
   },
   "file_extension": ".py",
   "mimetype": "text/x-python",
   "name": "python",
   "nbconvert_exporter": "python",
   "pygments_lexer": "ipython2",
   "version": "2.7.14"
  }
 },
 "nbformat": 4,
 "nbformat_minor": 1
}
