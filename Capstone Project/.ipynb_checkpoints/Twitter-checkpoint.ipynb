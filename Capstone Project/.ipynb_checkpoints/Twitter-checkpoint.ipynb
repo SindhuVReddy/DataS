{
 "cells": [
  {
   "cell_type": "markdown",
   "metadata": {},
   "source": [
    "# Twitter Video Game Analytics"
   ]
  },
  {
   "cell_type": "markdown",
   "metadata": {},
   "source": [
    "Questions: How does the number of tweets correspond to the ratings of the videogame? And the sales? \n",
    "Is the analysis the same for all the continents or are there outliers? "
   ]
  },
  {
   "cell_type": "code",
   "execution_count": null,
   "metadata": {},
   "outputs": [],
   "source": [
    "from geopy.geocoders import Nominatim\n",
    "from requests_oauthlib import OAuth1\n",
    "from pandas.io.json import json_normalize\n",
    "from collections import OrderedDict\n",
    "from cartopy.mpl.ticker import LongitudeFormatter, LatitudeFormatter\n",
    "import cartopy\n",
    "import cartopy.crs as ccrs\n",
    "import matplotlib.pyplot as plt\n",
    "import us\n",
    "import tweepy\n",
    "import json\n",
    "import seaborn as sns\n",
    "import re\n",
    "import geocoder\n",
    "import pandas as pd\n",
    "import numpy as np\n",
    "import fiona"
   ]
  },
  {
   "cell_type": "code",
   "execution_count": null,
   "metadata": {},
   "outputs": [],
   "source": [
    "def country_to_continents(country):\n",
    "    state_continents = {\"AD\":\"Europe\",\"AE\":\"Asia\",\"AF\":\"Asia\",\"AG\":\"North America\",\n",
    "    \"AI\":\"North America\",\"AL\":\"Europe\",\"AM\":\"Asia\",\"AN\":\"North America\",\"AO\":\"Africa\",\"AQ\":\"Antarctica\",\"AR\":\"South America\",\"AS\":\"Australia\",\"AT\":\"Europe\",\n",
    "    \"AU\":\"Australia\",\"AW\":\"North America\",\"AZ\":\"Asia\",\"BA\":\"Europe\",\"BB\":\"North America\",\"BD\":\"Asia\",\"BE\":\"Europe\",\"BF\":\"Africa\",\"BG\":\"Europe\",\"BH\":\"Asia\",\"BI\":\"Africa\",\"BJ\":\"Africa\",\"BM\":\"North America\",\"BN\":\"Asia\",\"BO\":\"South America\",\"BR\":\"South America\",\n",
    "    \"BS\":\"North America\",\"BT\":\"Asia\",\"BW\":\"Africa\",\"BY\":\"Europe\",\"BZ\":\"North America\",\"CA\":\"North America\",\"CC\":\"Asia\",\"CD\":\"Africa\",\"CF\":\"Africa\",\"CG\":\"Africa\",\"CH\":\"Europe\",\"CI\":\"Africa\",\"CK\":\"Australia\",\"CL\":\"South America\",\"CM\":\"Africa\",\"CN\":\"Asia\",\n",
    "    \"CO\":\"South America\",\"CR\":\"North America\",\"CU\":\"North America\",\"CV\":\"Africa\",\"CX\":\"Asia\",\"CY\":\"Asia\",\"CZ\":\"Europe\",\"DE\":\"Europe\",\"DJ\":\"Africa\",\"DK\":\"Europe\",\"DM\":\"North America\",\"DO\":\"North America\",\"DZ\":\"Africa\",\"EC\":\"South America\",\"EE\":\"Europe\",\"EG\":\"Africa\",\n",
    "    \"EH\":\"Africa\",\"ER\":\"Africa\",\"ES\":\"Europe\",\"ET\":\"Africa\",\"FI\":\"Europe\",\"FJ\":\"Australia\",\"FK\":\"South America\",\"FM\":\"Australia\",\"FO\":\"Europe\",\"FR\":\"Europe\",\"GA\":\"Africa\",\"GB\":\"Europe\",\"GD\":\"North America\",\"GE\":\"Asia\",\"GF\":\"South America\",\"GG\":\"Europe\",\"GH\":\"Africa\",\n",
    "    \"GI\":\"Europe\",\"GL\":\"North America\",\"GM\":\"Africa\",\"GN\":\"Africa\",\"GP\":\"North America\",\"GQ\":\"Africa\",\"GR\":\"Europe\",\"GS\":\"Antarctica\",\"GT\":\"North America\",\"GU\":\"Australia\",\"GW\":\"Africa\",\"GY\":\"South America\",\"HK\":\"Asia\",\"HN\":\"North America\",\"HR\":\"Europe\",\n",
    "    \"HT\":\"North America\",\"HU\":\"Europe\",\"ID\":\"Asia\",\"IE\":\"Europe\",\"IL\":\"Asia\",\"IM\":\"Europe\",\"IN\":\"Asia\",\"IO\":\"Asia\",\"IQ\":\"Asia\",\"IR\":\"Asia\",\"IS\":\"Europe\",\"IT\":\"Europe\",\"JE\":\"Europe\",\"JM\":\"North America\",\"JO\":\"Asia\",\"JP\":\"Asia\",\"KE\":\"Africa\",\"KG\":\"Asia\",\"KH\":\"Asia\",\n",
    "    \"KI\":\"Australia\",\"KM\":\"Africa\",\"KN\":\"North America\",\"KP\":\"Asia\",\"KR\":\"Asia\",\"KW\":\"Asia\",\"KY\":\"North America\",\"KZ\":\"Asia\",\"LA\":\"Asia\",\"LB\":\"Asia\",\"LC\":\"North America\",\"LI\":\"Europe\",\"LK\":\"Asia\",\"LR\":\"Africa\",\"LS\":\"Africa\",\"LT\":\"Europe\",\"LU\":\"Europe\",\"LV\":\"Europe\",\n",
    "    \"LY\":\"Africa\",\"MA\":\"Africa\",\"MC\":\"Europe\",\"MD\":\"Europe\",\"ME\":\"Europe\",\"MG\":\"Africa\",\"MH\":\"Australia\",\"MK\":\"Europe\",\"ML\":\"Africa\",\"MM\":\"Asia\",\"MN\":\"Asia\",\"MO\":\"Asia\",\"MP\":\"Australia\",\"MQ\":\"North America\",\"MR\":\"Africa\",\"MS\":\"North America\",\"MT\":\"Europe\",\"MU\":\"Africa\",\n",
    "    \"MV\":\"Asia\",\"MW\":\"Africa\",\"MX\":\"North America\",\"MY\":\"Asia\",\"MZ\":\"Africa\",\"NA\":\"Africa\",\"NC\":\"Australia\",\"NE\":\"Africa\",\"NF\":\"Australia\",\"NG\":\"Africa\",\"NI\":\"North America\",\"NL\":\"Europe\",\"NO\":\"Europe\",\"NP\":\"Asia\",\"NR\":\"Australia\",\"NU\":\"Australia\",\"NZ\":\"Australia\",\n",
    "    \"OM\":\"Asia\",\"PA\":\"North America\",\"PE\":\"South America\",\"PF\":\"Australia\",\"PG\":\"Australia\",\"PH\":\"Asia\",\"PK\":\"Asia\",\"PL\":\"Europe\",\"PM\":\"North America\",\"PN\":\"Australia\",\"PR\":\"North America\",\"PS\":\"Asia\",\"PT\":\"Europe\",\"PW\":\"Australia\",\"PY\":\"South America\",\"QA\":\"Asia\",\n",
    "    \"RE\":\"Africa\",\"RO\":\"Europe\",\"RS\":\"Europe\",\"RU\":\"Europe\",\"RW\":\"Africa\",\"SA\":\"Asia\",\"SB\":\"Australia\",\"SC\":\"Africa\",\"SD\":\"Africa\",\"SE\":\"Europe\",\"SG\":\"Asia\",\"SH\":\"Africa\",\"SI\":\"Europe\",\"SJ\":\"Europe\",\"SK\":\"Europe\",\"SL\":\"Africa\",\"SM\":\"Europe\",\"SN\":\"Africa\",\n",
    "    \"SO\":\"Africa\",\"SR\":\"South America\",\"ST\":\"Africa\",\"SV\":\"North America\",\"SY\":\"Asia\",\"SZ\":\"Africa\",\"TC\":\"North America\",\"TD\":\"Africa\",\"TF\":\"Antarctica\",\"TG\":\"Africa\",\"TH\":\"Asia\",\"TJ\":\"Asia\",\"TK\":\"Australia\",\"TM\":\"Asia\",\"TN\":\"Africa\",\"TO\":\"Australia\",\n",
    "    \"TR\":\"Asia\",\"TT\":\"North America\",\"TV\":\"Australia\",\"TW\":\"Asia\",\"TZ\":\"Africa\",\"UA\":\"Europe\",\"UG\":\"Africa\",\"US\":\"North America\",\"UY\":\"South America\",\n",
    "    \"UZ\":\"Asia\",\"VC\":\"North America\",\"VE\":\"South America\",\"VG\":\"North America\",\"VI\":\"North America\",\"VN\":\"Asia\",\"VU\":\"Australia\",\"WF\":\"Australia\",\"WS\":\"Australia\",\"YE\":\"Asia\",\"YT\":\"Africa\",\"ZA\":\"Africa\",\"ZM\":\"Africa\",\"ZW\":\"Africa\"}\n",
    "\n",
    "    for k,v in state_continents.items():\n",
    "        if country == k:\n",
    "            return v\n",
    "    return None\n"
   ]
  },
  {
   "cell_type": "code",
   "execution_count": null,
   "metadata": {},
   "outputs": [],
   "source": [
    "def plot_signal(x,y):\n",
    "    plt.figure(figsize=(8, 10))\n",
    "    ax1 = plt.subplot(211, projection=ccrs.PlateCarree())\n",
    "    ax1.set_global()\n",
    "    ax1.coastlines()\n",
    "    ax1.set_xticks([0, 60, 120, 180, 240, 300, 360], crs=ccrs.PlateCarree(central_longitude=0))\n",
    "    ax1.set_yticks([-90, -60, -30, 0, 30, 60, 90], crs=ccrs.PlateCarree(central_longitude=0))\n",
    "    lon_formatter = LongitudeFormatter()\n",
    "    lat_formatter = LatitudeFormatter()\n",
    "    ax1.xaxis.set_major_formatter(lon_formatter)\n",
    "    ax1.yaxis.set_major_formatter(lat_formatter)\n",
    "    ax1.stock_img()\n",
    "    ax1.scatter(x,y,transform=ccrs.PlateCarree())\n",
    "    return ax1"
   ]
  },
  {
   "cell_type": "code",
   "execution_count": null,
   "metadata": {},
   "outputs": [],
   "source": [
    "def finding_locations(search_text):\n",
    "    search_results = []\n",
    "    for status in tweepy.Cursor(api.search, q=search_text,retweeted_status=False).items(1000):\n",
    "        search_results.append(status._json)   \n",
    "    with open('search_results.json', 'w') as file:\n",
    "        json.dump(search_results,file)\n",
    "    \n",
    "    def byteify(input):\n",
    "        if isinstance(input, dict):\n",
    "            return {byteify(key): byteify(value)\n",
    "                    for key, value in input.iteritems()}\n",
    "        elif isinstance(input, list):\n",
    "            return [byteify(element) for element in input]\n",
    "        elif isinstance(input, unicode):\n",
    "            return input.encode('utf-8')\n",
    "        else:\n",
    "            return input\n",
    "    \n",
    "    json_df = json.load((open('search_results.json')),object_hook=byteify)\n",
    "    json_df = json_normalize(json_df)\n",
    "    json_df = json_df.dropna(how='all',axis=1)\n",
    "    json_df = json_df[json_df['user.location'] != '']\n",
    "    \n",
    "    def match_boolean(text):\n",
    "        if not text:\n",
    "            return False\n",
    "        else:\n",
    "            if re.search(r\"\\s*[,]\\s*\", str(text)):\n",
    "                text = text.split(', ')\n",
    "            elif re.search('(?<=-)\\w+', str(text)):\n",
    "                text = text.split('-')\n",
    "            return True \n",
    "    \n",
    "    us_comments = pd.DataFrame()\n",
    "    appended_data = {}\n",
    "    for each in json_df['user.location']:\n",
    "        match = match_boolean(each)\n",
    "        if match:\n",
    "            appended_data[each] = json_df[json_df['user.location'] == each]\n",
    "    us_comments = appended_data\n",
    "\n",
    "    temp_coords = []\n",
    "    for each in us_comments:\n",
    "        geo = geocoder.google(each,key=google)\n",
    "        temp_coords.append([geo.city, geo.state, geo.state_long, geo.country, geo.country_long, country_to_continents(geo.country), geo.lat, geo.lng])\n",
    "        \n",
    "    clean_df = pd.DataFrame(data=temp_coords, columns=['city','state','state_long','country','country_long', 'continent', 'lat','lng'])\n",
    "    return clean_df"
   ]
  },
  {
   "cell_type": "code",
   "execution_count": 1,
   "metadata": {
    "scrolled": true
   },
   "outputs": [
    {
     "ename": "NameError",
     "evalue": "name 'pd' is not defined",
     "output_type": "error",
     "traceback": [
      "\u001b[0;31m---------------------------------------------------------------------------\u001b[0m",
      "\u001b[0;31mNameError\u001b[0m                                 Traceback (most recent call last)",
      "\u001b[0;32m<ipython-input-1-c0d550a68f7d>\u001b[0m in \u001b[0;36m<module>\u001b[0;34m()\u001b[0m\n\u001b[0;32m----> 1\u001b[0;31m \u001b[0mratings\u001b[0m \u001b[0;34m=\u001b[0m \u001b[0mpd\u001b[0m\u001b[0;34m.\u001b[0m\u001b[0mread_csv\u001b[0m\u001b[0;34m(\u001b[0m\u001b[0;34m'../Springboard/Capstone Project/Data/ign.csv'\u001b[0m\u001b[0;34m)\u001b[0m\u001b[0;34m.\u001b[0m\u001b[0mfillna\u001b[0m\u001b[0;34m(\u001b[0m\u001b[0mvalue\u001b[0m\u001b[0;34m=\u001b[0m\u001b[0;36m0.0\u001b[0m\u001b[0;34m)\u001b[0m\u001b[0;34m\u001b[0m\u001b[0m\n\u001b[0m\u001b[1;32m      2\u001b[0m \u001b[0msales\u001b[0m \u001b[0;34m=\u001b[0m \u001b[0mpd\u001b[0m\u001b[0;34m.\u001b[0m\u001b[0mread_csv\u001b[0m\u001b[0;34m(\u001b[0m\u001b[0;34m'../Springboard/Capstone Project/Data/Video_Games_Sales_as_at_22_Dec_2016 2.csv'\u001b[0m\u001b[0;34m)\u001b[0m\u001b[0;34m.\u001b[0m\u001b[0mfillna\u001b[0m\u001b[0;34m(\u001b[0m\u001b[0mvalue\u001b[0m\u001b[0;34m=\u001b[0m\u001b[0;36m0.0\u001b[0m\u001b[0;34m)\u001b[0m\u001b[0;34m\u001b[0m\u001b[0m\n",
      "\u001b[0;31mNameError\u001b[0m: name 'pd' is not defined"
     ]
    }
   ],
   "source": [
    "ratings = pd.read_csv('../Springboard/Capstone Project/Data/ign.csv').fillna(value=0.0)\n",
    "sales = pd.read_csv('../Springboard/Capstone Project/Data/Video_Games_Sales_as_at_22_Dec_2016 2.csv').fillna(value=0.0)"
   ]
  },
  {
   "cell_type": "code",
   "execution_count": null,
   "metadata": {},
   "outputs": [],
   "source": [
    "file = '../twitter.xlsx'\n",
    "data = list(pd.read_excel(file,header=1))\n",
    "access_token = str(data[0])\n",
    "access_token_secret = str(data[1])\n",
    "consumer_key = str(data[2])\n",
    "consumer_secret = str(data[3])\n",
    "google = str(data[4])\n",
    "\n",
    "auth = tweepy.OAuthHandler(consumer_key, consumer_secret,'https://api.twitter.com/1.1/tweets/search/fullarchive/1.json')\n",
    "auth.set_access_token(access_token,access_token_secret)\n",
    "api = tweepy.API(auth)\n",
    "no_space_names = pd.DataFrame(\n",
    "    np.core.defchararray.replace(sales['Name'].values.astype(str), ' ', ''))\n",
    "search_list = list(\"%23\" + no_space_names.values)\n",
    "num = 3\n",
    "search_list = pd.DataFrame(search_list[:num])\n",
    "videogames = sales['Name'].loc[:num]\n",
    "keywords = dict(zip(videogames.values,search_list.values))\n",
    "\n",
    "clean_dict = {}\n",
    "for k,v in keywords.iteritems():\n",
    "    clean_dict[k] = finding_locations(v)\n",
    "\n",
    "clean_df = {(outerKey, innerKey): values for outerKey, innerDict in clean_dict.iteritems() for innerKey, values in innerDict.iteritems()}\n",
    "clean_df = pd.DataFrame(clean_df)\n",
    "\n",
    "for videogame in videogames[::(len(videogames)-1)]]:\n",
    "    ax = plot_signal(clean_df[videogame]['lng'].values,clean_df[videogame]['lat'].values)\n",
    "plt.show()"
   ]
  },
  {
   "cell_type": "code",
   "execution_count": null,
   "metadata": {},
   "outputs": [],
   "source": [
    "clean_df.dropna(how='all').head()"
   ]
  },
  {
   "cell_type": "code",
   "execution_count": null,
   "metadata": {},
   "outputs": [],
   "source": [
    "sales['Genre'].value_counts(dropna=True)"
   ]
  },
  {
   "cell_type": "code",
   "execution_count": null,
   "metadata": {},
   "outputs": [],
   "source": [
    "sales.groupby(['Genre','Platform']).plot(kind = 'box',fontsize = 15)\n",
    "plt.show()"
   ]
  },
  {
   "cell_type": "code",
   "execution_count": null,
   "metadata": {},
   "outputs": [],
   "source": [
    "ax1 = plt.subplot(3, 1, 1)\n",
    "ax1.scatter(sales['User_Count'].values, sales['EU_Sales'].values)\n",
    "plt.title('Videogames')\n",
    "ax1.legend()\n",
    "ax1.set_ylabel('Continent Sales')\n",
    "\n",
    "ax2 = plt.subplot(3, 1, 2,sharex=ax1)\n",
    "ax2.scatter(sales['User_Count'].values ,sales['JP_Sales'].values)\n",
    "ax2.set_ylabel('Japanese')\n",
    "\n",
    "ax3 = plt.subplot(3, 1, 3, sharex=ax1)\n",
    "ax3.scatter(sales['User_Count'].values ,sales['NA_Sales'].values)\n",
    "ax3.set_xlabel('Year')\n",
    "ax3.set_ylabel('North America')\n",
    "plt.show()"
   ]
  },
  {
   "cell_type": "code",
   "execution_count": null,
   "metadata": {},
   "outputs": [],
   "source": [
    "value_counts = []\n",
    "for videogame in videogames[:(len(videogames)-1)]:\n",
    "    value_counts.append([videogame,clean_df[videogame].continent.value_counts()])"
   ]
  },
  {
   "cell_type": "code",
   "execution_count": null,
   "metadata": {},
   "outputs": [],
   "source": [
    "sales.groupby('Genre')['Global_Sales'].mean().plot()\n",
    "plt.show()"
   ]
  },
  {
   "cell_type": "code",
   "execution_count": null,
   "metadata": {},
   "outputs": [],
   "source": [
    "print sales.columns\n",
    "print ratings.columns"
   ]
  },
  {
   "cell_type": "code",
   "execution_count": null,
   "metadata": {},
   "outputs": [],
   "source": [
    "ratings.groupby('release_year')['score'].mean().plot(legend=False)\n",
    "plt.title('Average Ratings per Year')\n",
    "plt.ylabel('Average Ratings')\n",
    "plt.show()"
   ]
  },
  {
   "cell_type": "code",
   "execution_count": null,
   "metadata": {},
   "outputs": [],
   "source": [
    "ratings.groupby('genre')['score'].mean()"
   ]
  },
  {
   "cell_type": "code",
   "execution_count": null,
   "metadata": {},
   "outputs": [],
   "source": [
    "sales['Platform'].value_counts()"
   ]
  },
  {
   "cell_type": "code",
   "execution_count": null,
   "metadata": {},
   "outputs": [],
   "source": [
    "ratings.groupby(['score'], sort=False).sum()"
   ]
  },
  {
   "cell_type": "code",
   "execution_count": null,
   "metadata": {
    "scrolled": true
   },
   "outputs": [],
   "source": [
    "sns.pairplot(sales.select_dtypes(include=['float64']),kind=\"reg\")\n",
    "plt.show()"
   ]
  },
  {
   "cell_type": "code",
   "execution_count": null,
   "metadata": {},
   "outputs": [],
   "source": []
  }
 ],
 "metadata": {
  "kernelspec": {
   "display_name": "Python 2",
   "language": "python",
   "name": "python2"
  },
  "language_info": {
   "codemirror_mode": {
    "name": "ipython",
    "version": 2
   },
   "file_extension": ".py",
   "mimetype": "text/x-python",
   "name": "python",
   "nbconvert_exporter": "python",
   "pygments_lexer": "ipython2",
   "version": "2.7.14"
  }
 },
 "nbformat": 4,
 "nbformat_minor": 2
}
